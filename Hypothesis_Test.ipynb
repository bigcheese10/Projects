{
 "cells": [
  {
   "cell_type": "markdown",
   "metadata": {},
   "source": [
    "## The Hypothesis test on a single population!!\n",
    "\n",
    "Written by: Calib Fenoglio, and Kaleb Ringenberg\n",
    "\n",
    "In the study of statistics and probability, there is a test you can do when working with a single population on a distribution that can take the form of the Normal distribution, that is to say that the Binomial, Normal, and Poisson distributions are the distributions where the hypothesis test is valid. \n",
    "\n",
    "There are 8 steps to the test, that our program will take you through, and give you the result of the test; which is to accept or reject the hypothesis we make on the population. "
   ]
  },
  {
   "cell_type": "code",
   "execution_count": null,
   "metadata": {},
   "outputs": [],
   "source": [
    "#All imports required, can be acquired with a simple \"pip install *insert package name here*\" into your command console. \n",
    "import numpy as np\n",
    "import math\n",
    "from math import sqrt\n",
    "from scipy.stats import t\n",
    "from scipy.stats import zscore\n",
    "from scipy.stats import norm \n",
    "import matplotlib.pyplot as plt\n",
    "\n",
    "class Hypoth_Tester():\n",
    "    def init(self, alpha,tru_mean,mean,std,n):\n",
    "        self.alpha = alpha\n",
    "        self.x_bar = tru_mean\n",
    "        self.h0 = mean\n",
    "        self.S = std\n",
    "        self.n = n\n",
    "        self.z0 = 0\n",
    "        self.z_eval = 0\n",
    "        self.z_alpha = 0\n",
    "        self.z_alpha2 = 0\n",
    "         \n",
    "    def z_percent_norm(self, p):\n",
    "        return norm.ppf(p)\n",
    "\n",
    "    def z_val_norm(self, val):\n",
    "        self.z_eval = norm.cdf(val)\n",
    "        return norm.cdf(val)\n",
    "    \n",
    "    def z_alpha_calc(self, alpha):\n",
    "        self.z_alpha = norm.ppf(alpha)\n",
    "        return norm.ppf(alpha)\n",
    "    \n",
    "    def z_alpha2_calc(self, alpha):\n",
    "        self.z_alpha2 = norm.ppf(alpha/2)\n",
    "        return norm.ppf(alpha/2)\n",
    "    \n",
    "    def t_alpha_freedom(self):\n",
    "        return t.ppf( (1 - self.alpha) ,(self.n - 1) )\n",
    "\n",
    "    def beta_calculata(self,alpha,mu,mu0,std,n):\n",
    "        tau = mu - mu0\n",
    "        z_pos = norm.ppf(alpha/2)\n",
    "        z_0 = tau / (std /(sqrt(n)))\n",
    "        lhs = z_pos + z_0\n",
    "        rhs = -z_pos + z_0\n",
    "        Beta = norm.cdf(rhs) - norm.cdf(lhs) \n",
    "        return Beta\n",
    "    \n",
    "    def null_test(self,):\n",
    "        z0 = (self.x_bar - self.h0)/ (self.S / sqrt(self.n))\n",
    "        return z0\n",
    "\n",
    "    def two_sided_p_val_norm(self, ):\n",
    "        self.z0 = (self.x_bar - self.h0) / (self.S / sqrt(self.n))\n",
    "        return (2*(1-norm.cdf(abs(self.z0))))\n",
    "        \n",
    "    def upper_p_val_norm(self,):\n",
    "        self.z0 = (self.x_bar - self.h0) / (self.S / sqrt(self.n))\n",
    "        return (1-norm.cdf(abs(self.z0)))\n",
    "    \n",
    "    def lower_p_val_norm(self,):\n",
    "        self.z0 = (self.x_bar - self.h0) / (self.S / sqrt(self.n))\n",
    "        return norm.cdf(abs(self.z0))\n",
    "    \n",
    "    def output(self,):\n",
    "        z0 = round(self.z0,2)\n",
    "        z_alpha2 = round(norm.ppf(self.alpha/2),2)\n",
    "        z_alpha = round(norm.ppf(self.alpha),2)\n",
    "        #for whatever reason if you try calling round(2*(1-norm.cdf(abs(self.z0)))) it returns a tuple\n",
    "        #i'm not sure as to why, but i resolved it with a temp variable\n",
    "        #the rest is all you need\n",
    "        two_temp = 2*(1-norm.cdf(abs(self.z0)))\n",
    "        two_side = round(two_temp,5)\n",
    "        upper_side = round(1-norm.cdf(abs(self.z0)),5)\n",
    "        lower_side = round(norm.cdf(abs(self.z0)),5)\n",
    "        \n",
    "        #mu is always the variable of interest for this test\n",
    "        print(\"\\nStep 01): Identify the variable of interest ----> µ.\")\n",
    "        print(\"\\nStep 02): State the null hypothesis(H0)----> H0:µ = \" + str(self.h0))\n",
    "        print(\"\\nStep 03): State the alt. hypothesis(H1)----> 3 TYPES!!!\" \n",
    "              + \"\\n\\t\\t  Two-Sided: H1:µ != \" + str(self.h0)\n",
    "              + \"\\n\\t\\t  Upper-Tail: H1:µ > \" + str(self.h0)\n",
    "              + \"\\n\\t\\t  Lower-Tail: H1:µ < \" + str(self.h0))\n",
    "        print(\"\\nStep 04): State the alpha value----> α = \" + str(self.alpha))\n",
    "        print(\"\\nStep 05): Identify the 'Test Statistic' to use (normal/T/chi-square), this instance it uses normal-->Z.\"\n",
    "              +\"\\n\\t\\t  So Z0 = (xbar - µ) / (σ / √n) ----> \" + str(z0))\n",
    "        print(\"\\nStep 06): Identify what boundary you are under(look at step 03, what alt. hyp. do you have?)\"\n",
    "              + \"\\n\\t\\t  If you had a Two-Sided H1: Z0 <-Zα/2 or Z0 > Zα/2 ----> \"+str(z0)+\" < \"+str(-z_alpha2)+\" OR \"+str(z0)+\" > \"+str(z_alpha2)\n",
    "              + \"\\n\\t\\t  If you had an Upper-Tailed H1: Z0 > Zα ----> \"+str(z0)+\" > \"+str(z_alpha)\n",
    "              + \"\\n\\t\\t  If you had a Lower-Tailed H1: Z0 < -Zα ----> \"+str(z0)+\" < \"+str(-z_alpha))\n",
    "        print(\"\\nStep 07): Calculate your Z0 and P-values ----> Z0 = \"+str(z0)\n",
    "              + \"\\n\\t\\t  IF you had a Two-Sided: P-val = \"+str(two_side)\n",
    "              + \"\\n\\t\\t  If you had an Upper-Tailed: P-val = \"+str(upper_side)\n",
    "              + \"\\n\\t\\t  If you had a Lower-Tailed: P-val = \"+str(lower_side))\n",
    "        print(\"\\nStep 08): Draw conclusions. Let's begin by checking where Z0 lands in the Critical Region(your bounds from Step 06).\"\n",
    "              + \"\\n\\t\\t  Two-Sided: If we see from Step 06 that \"+str(z0)+\" is LESS than \"+str(-z_alpha2)+\" OR \"+str(z0)+\" is GREATHER than \"+str(z_alpha2)\n",
    "              + \"\\n\\t\\t\\tThen we would fail to reject the Null hyp.(H0), else we reject. Confirming/Denying rejection can be done by comparing P-val to alpha\"\n",
    "              + \"\\n\\t\\t\\tIf \"+str(two_side)+\" > \"+str(self.alpha)+\" ;Then we would fail to reject H0, else we reject(P-val < alpha).\"\n",
    "              + \"\\n\\t\\t  Upper-Tailed: If we see from Step 06 that \"+str(z0)+\" is GREATER than \"+str(z_alpha)+\" Then we would fail to reject H0.\"\n",
    "              + \"\\n\\t\\t\\tConfirming/Denying rejection: If \"+str(upper_side)+\" > \"+str(self.alpha)+\" ;Then we would fail to reject H0, else we reject(P-val < alpha)\"\n",
    "              + \"\\n\\t\\t  Lower-Tailed: If we see from Step 06 that \"+str(z0)+\" is LESS than \"+str(-z_alpha)+\" Then we would fail to reject H0.\"\n",
    "              + \"\\n\\t\\t\\tConfirming/Denying rejection: If \"+str(lower_side)+\" > \"+str(self.alpha)+\" ;Then we would fail to reject H0, else we reject(P-val < alpha)\")\n"
   ]
  },
  {
   "cell_type": "code",
   "execution_count": 309,
   "metadata": {},
   "outputs": [
    {
     "name": "stdout",
     "output_type": "stream",
     "text": [
      "\n",
      "Step 01): Identify the variable of interest ----> µ.\n",
      "\n",
      "Step 02): State the null hypothesis(H0)----> H0:µ = 1.5\n",
      "\n",
      "Step 03): State the alt. hypothesis(H1)----> 3 TYPES!!!\n",
      "\t\t  Two-Sided: H1:µ != 1.5\n",
      "\t\t  Upper-Tail: H1:µ > 1.5\n",
      "\t\t  Lower-Tail: H1:µ < 1.5\n",
      "\n",
      "Step 04): State the alpha value----> α = 0.01\n",
      "\n",
      "Step 05): Identify the 'Test Statistic' to use (normal/T/chi-square), this instance it uses normal-->Z.\n",
      "\t\t  So Z0 = (xbar - µ) / (σ / √n) ----> -1.25\n",
      "\n",
      "Step 06): Identify what boundary you are under(look at step 03, what alt. hyp. do you have?)\n",
      "\t\t  If you had a Two-Sided H1: Z0 <-Zα/2 or Z0 > Zα/2 ----> -1.25 < 2.58 OR -1.25 > -2.58\n",
      "\t\t  If you had an Upper-Tailed H1: Z0 > Zα ----> -1.25 > -2.33\n",
      "\t\t  If you had a Lower-Tailed H1: Z0 < -Zα ----> -1.25 < 2.33\n",
      "\n",
      "Step 07): Calculate your Z0 and P-values ----> Z0 = -1.25\n",
      "\t\t  IF you had a Two-Sided: P-val = 0.2113\n",
      "\t\t  If you had an Upper-Tailed: P-val = 0.10565\n",
      "\t\t  If you had a Lower-Tailed: P-val = 0.89435\n",
      "\n",
      "Step 08): Draw conclusions. Let's begin by checking where Z0 lands in the Critical Region(your bounds from Step 06).\n",
      "\t\t  Two-Sided: If we see from Step 06 that -1.25 is LESS than 2.58 OR -1.25 is GREATHER than -2.58\n",
      "\t\t\tThen we would fail to reject the Null hyp.(H0), else we reject. Confirming/Denying rejection can be done by comparing P-val to alpha\n",
      "\t\t\tIf 0.2113 > 0.01 ;Then we would fail to reject H0, else we reject(P-val < alpha).\n",
      "\t\t  Upper-Tailed: If we see from Step 06 that -1.25 is GREATER than -2.33 Then we would fail to reject H0.\n",
      "\t\t\tConfirming/Denying rejection: If 0.10565 > 0.01 ;Then we would fail to reject H0, else we reject(P-val < alpha)\n",
      "\t\t  Lower-Tailed: If we see from Step 06 that -1.25 is LESS than 2.33 Then we would fail to reject H0.\n",
      "\t\t\tConfirming/Denying rejection: If 0.89435 > 0.01 ;Then we would fail to reject H0, else we reject(P-val < alpha)\n"
     ]
    }
   ],
   "source": [
    "test = Hypoth_Tester()\n",
    "test.init(.01,1.4975,1.5,.01,25)\n",
    "#Call your Python \"Constructor\" for the object\n",
    "test.two_sided_p_val_norm()\n",
    "test.output()"
   ]
  },
  {
   "cell_type": "markdown",
   "metadata": {},
   "source": [
    "## A Beta calculator!\n",
    "\n",
    "A simple calculator you can use to to get your Beta value from the Beta distribution, just pass the parameters in the order defined."
   ]
  },
  {
   "cell_type": "code",
   "execution_count": 72,
   "metadata": {},
   "outputs": [
    {
     "data": {
      "text/plain": [
       "0.2878755687085087"
      ]
     },
     "execution_count": 72,
     "metadata": {},
     "output_type": "execute_result"
    }
   ],
   "source": [
    "def beta_calculata(self,alpha,mu,mu0,std,n):\n",
    "        tau = mu - mu0\n",
    "        rounded_sqrt = round ( sqrt(n), 5 )\n",
    "        zed_alpha = round(-1 * self.z_percent_norm(alpha), 3)\n",
    "        lhs = self.z_val_norm(zed_alpha - ( tau* rounded_sqrt / std ) )\n",
    "        rhs = self.z_val_norm( (-1 * zed_alpha) - ( tau* rounded_sqrt / std ) )\n",
    "\n",
    "        Beta = lhs - rhs\n",
    "\n",
    "        return Beta\n",
    "        "
   ]
  },
  {
   "cell_type": "code",
   "execution_count": null,
   "metadata": {},
   "outputs": [],
   "source": [
    "beta_calculata()"
   ]
  }
 ],
 "metadata": {
  "kernelspec": {
   "display_name": "Python 3",
   "language": "python",
   "name": "python3"
  },
  "language_info": {
   "codemirror_mode": {
    "name": "ipython",
    "version": 3
   },
   "file_extension": ".py",
   "mimetype": "text/x-python",
   "name": "python",
   "nbconvert_exporter": "python",
   "pygments_lexer": "ipython3",
   "version": "3.8.3"
  }
 },
 "nbformat": 4,
 "nbformat_minor": 4
}
