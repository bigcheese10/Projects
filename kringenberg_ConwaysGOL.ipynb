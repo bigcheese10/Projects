{
 "cells": [
  {
   "cell_type": "markdown",
   "metadata": {},
   "source": [
    "# CS360\n",
    "\n",
    "### Instructions\n",
    "0. Remember to comment.  If your code fails to perform the task at hand but your comments are describing proper code execution I can award a substanial amount of points for logical errors in your program.  Think of comments as the equivalent of showing your work in a math class.\n",
    "1. Read all instructions carefully, ask questions if anything is confusing.  \n",
    "2. Fill in the code/text blocks to answer each question.\n",
    "3. Do **not** change any of the existing code provided.  The code is specifically there to help you!\n",
    "4. Run the entire notebook *before* submitting it on Sakai to make sure that the code actually runs without errors.\n",
    "5. **Important**: Any question for which your code fails to run will receive 0 points.\n",
    "6. Have fun!\n",
    "7. DO NOT USE ANY PACKAGES, other than the ones I have imported.  Part of learning is to struggle through the \"hard way\" before getting to do things the easy way.  Any packages I have imported are fair game and you may use any functions unless otherwise specified.  If I've imported them after a function, I've deliberately made it so you cannot retroactively use them in an earlier problem.\n",
    "8. If I've used return(None) for a function, you may definitely change the return type.  It's just a placeholder\n",
    "9. While you may discuss the concepts of the problems with your peers your code will need to be yours and yours alone.\n",
    "10. Replace CS497 with your BUID (ie if I was turning in this assignment my file would be called dbrennan_HW#2).  "
   ]
  },
  {
   "cell_type": "markdown",
   "metadata": {},
   "source": [
    "# This assignment will be based on Conway's game of life (not the Milton Bradley Game!)\n",
    "\n",
    "https://en.wikipedia.org/wiki/Conway%27s_Game_of_Life\n",
    "\n",
    "I have handled everything...except the logic for determining if a cell is alive or dead.  We are using numpy arrays to store 1's and 0's with 1 being considered alive and 0 being considered dead.\n",
    "\n",
    "**The universe of the Game of Life is an infinite, two-dimensional orthogonal grid of square cells, each of which is in one of two possible states, alive or dead, (or populated and unpopulated, respectively). Every cell interacts with its eight neighbours, which are the cells that are horizontally, vertically, or diagonally adjacent. At each step in time, the following transitions occur:**\n",
    "\n",
    "**Any live cell with fewer than two live neighbours dies, as if by underpopulation.**\n",
    "\n",
    "**Any live cell with two or three live neighbours lives on to the next generation.**\n",
    "\n",
    "**Any live cell with more than three live neighbours dies, as if by overpopulation.**\n",
    "\n",
    "**Any dead cell with exactly three live neighbours becomes a live cell, as if by reproduction.**\n",
    "\n",
    "Since we let the user choose the size of the matrix we are working with, we clearly have a finite grid.  To make this seem \"infinite\" cells at the edge of the array \"see\" the cells on the other side.  **Not handling this will lose you a good deal of points!**\n",
    "\n",
    "\n"
   ]
  },
  {
   "cell_type": "code",
   "execution_count": 7,
   "metadata": {},
   "outputs": [],
   "source": [
    "%matplotlib inline\n",
    "import numpy as np\n",
    "import matplotlib.pyplot as plt\n",
    "from IPython.display import clear_output\n",
    "from time import sleep\n",
    "\n",
    "global_list = []\n",
    "\n",
    "def update_plot(array, figsize=(7,5), title=''):\n",
    "    clear_output(wait=False)\n",
    "    plt.figure(figsize=figsize)\n",
    "    plt.imshow(array,cmap=\"gray\")\n",
    "    plt.title(title)\n",
    "    plt.grid(True)\n",
    "    plt.xlabel('Remember alive is white, dead is black')\n",
    "    plt.show();"
   ]
  },
  {
   "cell_type": "code",
   "execution_count": 8,
   "metadata": {},
   "outputs": [],
   "source": [
    "def startup(random_percent=None,predefined_board=None):\n",
    "    if predefined_board is None:\n",
    "        size_to_build = input(\"enter the size of your game of life\\n\")\n",
    "        dimension = int(size_to_build)\n",
    "    ##Build the game board, bias is an optional parameter you can pass the function\n",
    "    if random_percent is None and predefined_board is None:\n",
    "        game_board = np.random.randint(2,size=(dimension,dimension))\n",
    "        return game_board\n",
    "    else:\n",
    "        if predefined_board is None:\n",
    "            game_board = np.arange(dimension**2)\n",
    "            #In place shuffle\n",
    "            np.random.shuffle(game_board)\n",
    "            #Grab number we should make alive\n",
    "            alive = int(np.floor(len(game_board)*random_percent)*1/100)\n",
    "            #Set those elements to be alive\n",
    "            zeros = np.zeros(dimension**2)\n",
    "            alive_cells = game_board[0:alive:1]\n",
    "            zeros[alive_cells]=1\n",
    "            game_board = zeros.reshape(dimension,-1)\n",
    "            return game_board\n",
    "        else:\n",
    "            return predefined_board\n"
   ]
  },
  {
   "cell_type": "code",
   "execution_count": 9,
   "metadata": {},
   "outputs": [],
   "source": [
    "def check_if_pattern(board):\n",
    "    ##We need a copy (remember shallow vs deep?)\n",
    "    board_copy = np.copy(board)\n",
    "    add_to_list = True\n",
    "    saved_idx = -1\n",
    "    \n",
    "    for idx,board_state in enumerate(global_list):\n",
    "        ##Values are same boardwise means we have an oscillating pattern\n",
    "        if np.array_equal(board_state,board_copy):\n",
    "            add_to_list = False\n",
    "            saved_idx = idx\n",
    "            break\n",
    "            \n",
    "    if add_to_list == True:\n",
    "        global_list.append(board_copy)\n",
    "    \n",
    "    return saved_idx\n",
    "        "
   ]
  },
  {
   "cell_type": "code",
   "execution_count": 10,
   "metadata": {},
   "outputs": [],
   "source": [
    "def game_of_life(test_board = None,bias=None):\n",
    "    if test_board is None:\n",
    "        start_board = startup(random_percent=bias)\n",
    "    else:\n",
    "        start_board = startup(predefined_board=test_board)\n",
    "    ##Clear global list from previous runs\n",
    "    global_list.clear()\n",
    "    global_list.append(start_board)\n",
    "    \n",
    "    board = start_board\n",
    "    count = 0\n",
    "    not_stable = True\n",
    "    all_dead = False\n",
    "    \n",
    "    \n",
    "    while not_stable == True:\n",
    "        title_plot=\"This is iteration number: \" + str(count) + \" since you have started\"\n",
    "        update_plot(board,title=title_plot)\n",
    "        prev_board = board\n",
    "        board = update_game_board(board)\n",
    "       \n",
    "    \n",
    "        idx=check_if_pattern(board)\n",
    "        \n",
    "        if idx != -1:\n",
    "            not_stable = False\n",
    "        \n",
    "        all_zero = np.zeros(board.shape[0]**2).reshape(board.shape[0],-1)\n",
    "        \n",
    "        if np.array_equal(all_zero,board):\n",
    "            all_dead = True\n",
    "            not_stable = False\n",
    "            \n",
    "        sleep(.25)\n",
    "        count+=1\n",
    "    \n",
    "    if all_dead == True:\n",
    "        print(\"Everything has died :( after\",count,\"iterations\")\n",
    "    elif not_stable == False:\n",
    "        print(\"Stable game conditions reached after:\",count,\"iterations, with a period of:\",len(global_list)-idx)\n",
    "\n",
    "    \n",
    "    "
   ]
  },
  {
   "cell_type": "code",
   "execution_count": 33,
   "metadata": {},
   "outputs": [],
   "source": [
    "##This is where all your lab code goes!\n",
    "def update_game_board(input_board):\n",
    "    #It's annoying typing that everytime so there ya go\n",
    "    X = len(input_board)\n",
    "    \n",
    "    #We want a deep copy, not a shallow\n",
    "    newer_board = input_board.copy()\n",
    "    \n",
    "    #2D array = matrix so we double iterate over the length\n",
    "    for i in range(X):\n",
    "        for j in range(X):           \n",
    "            # the general \"Toroidal Rule\" for implementation with a computer program to know how to \n",
    "            # basically act as a \"Circular Array\" which means, when we hit the end of the user given\n",
    "            # X by X game board, when we reach the edges we know how to act as if the game board was\n",
    "            # Wrapped around on itself like a full geometrical shape.\n",
    "            DEADorALIVEsucka = int(input_board[i,(j+1)%X] + input_board[i,(j-1)%X] + input_board[(i+1)%X, j]\n",
    "                        + input_board[(i-1)%X, j] + input_board[(i-1)%X, (j-1)%X] + input_board[(i-1)%X, (j+1)%X]\n",
    "                        + input_board[(i+1)%X, (j-1)%X] + input_board[(i+1)%X, (j+1)%X])\n",
    "            \n",
    "            # Are we living? Are we coming back to life? Are we remaining dead? \n",
    "            if input_board[i,j] == 1:\n",
    "                if DEADorALIVEsucka < 2 or DEADorALIVEsucka > 3:\n",
    "                    \n",
    "                    #He's 6 feet under boys\n",
    "                    newer_board[i,j] = 0\n",
    "            else:\n",
    "                # RESURRECTION!!!!!! As name suggests, this is the condition we need for a cell to be reborn\n",
    "                if DEADorALIVEsucka == 3:\n",
    "                    newer_board[i,j] = 1\n",
    "                    \n",
    "    # Updating our game board per iteration\n",
    "    input_board[:] = newer_board[:]\n",
    "    return newer_board\n",
    "\n"
   ]
  },
  {
   "cell_type": "code",
   "execution_count": null,
   "metadata": {},
   "outputs": [],
   "source": []
  },
  {
   "cell_type": "code",
   "execution_count": 34,
   "metadata": {
    "scrolled": true
   },
   "outputs": [
    {
     "data": {
      "image/png": "[encoded data removed]",
      "text/plain": [
       "<Figure size 504x360 with 1 Axes>"
      ]
     },
     "metadata": {
      "needs_background": "light"
     },
     "output_type": "display_data"
    },
    {
     "name": "stdout",
     "output_type": "stream",
     "text": [
      "Stable game conditions reached after: 1 iterations, with a period of: 1\n"
     ]
    }
   ],
   "source": [
    "##### Play the game!\n",
    "game_of_life()"
   ]
  },
  {
   "cell_type": "markdown",
   "metadata": {},
   "source": [
    "# Below are some test cases, these are based on some famous game of life board states"
   ]
  },
  {
   "cell_type": "code",
   "execution_count": 35,
   "metadata": {},
   "outputs": [],
   "source": [
    "x = 17\n",
    "pulsar = np.zeros(x**2)\n",
    "pulsar=pulsar.reshape(x,-1)\n",
    "##Build the famous pulsar!  It will oscillate over a period of 3\n",
    "pulsar[2][4],pulsar[2][5],pulsar[2][6],pulsar[2][10],pulsar[2][11],pulsar[2][12] = 1,1,1,1,1,1\n",
    "pulsar[4][2],pulsar[4][7],pulsar[4][9],pulsar[4][14] = 1,1,1,1\n",
    "pulsar[5][2],pulsar[5][7],pulsar[5][9],pulsar[5][14] = 1,1,1,1\n",
    "pulsar[6][2],pulsar[6][7],pulsar[6][9],pulsar[6][14] = 1,1,1,1\n",
    "pulsar[7][4],pulsar[7][5],pulsar[7][6],pulsar[7][10],pulsar[7][11],pulsar[7][12] = 1,1,1,1,1,1\n",
    "pulsar[9][4],pulsar[9][5],pulsar[9][6],pulsar[9][10],pulsar[9][11],pulsar[9][12] = 1,1,1,1,1,1\n",
    "pulsar[10][2],pulsar[10][7],pulsar[10][9],pulsar[10][14] = 1,1,1,1\n",
    "pulsar[11][2],pulsar[11][7],pulsar[11][9],pulsar[11][14] = 1,1,1,1\n",
    "pulsar[12][2],pulsar[12][7],pulsar[12][9],pulsar[12][14] = 1,1,1,1\n",
    "pulsar[14][4],pulsar[14][5],pulsar[14][6],pulsar[14][10],pulsar[14][11],pulsar[14][12] = 1,1,1,1,1,1\n",
    "\n"
   ]
  },
  {
   "cell_type": "code",
   "execution_count": 36,
   "metadata": {},
   "outputs": [
    {
     "data": {
      "image/png": "[encoded data removed]",
      "text/plain": [
       "<Figure size 504x360 with 1 Axes>"
      ]
     },
     "metadata": {
      "needs_background": "light"
     },
     "output_type": "display_data"
    },
    {
     "name": "stdout",
     "output_type": "stream",
     "text": [
      "Stable game conditions reached after: 1 iterations, with a period of: 1\n"
     ]
    }
   ],
   "source": [
    "game_of_life(test_board=pulsar)"
   ]
  },
  {
   "cell_type": "code",
   "execution_count": 37,
   "metadata": {},
   "outputs": [],
   "source": [
    "x = 15\n",
    "new_board_test = np.zeros(x**2)\n",
    "new_board_test=new_board_test.reshape(x,-1)\n",
    "##Build the famous diehard!  It will die off after 130 iterations\n",
    "new_board_test[2,9]=1\n",
    "new_board_test[3][3],new_board_test[3][4]=1,1\n",
    "new_board_test[4,4],new_board_test[4,8],new_board_test[4,9],new_board_test[4,10] = 1,1,1,1\n"
   ]
  },
  {
   "cell_type": "code",
   "execution_count": 38,
   "metadata": {},
   "outputs": [
    {
     "data": {
      "image/png": "[encoded data removed]",
      "text/plain": [
       "<Figure size 504x360 with 1 Axes>"
      ]
     },
     "metadata": {
      "needs_background": "light"
     },
     "output_type": "display_data"
    },
    {
     "name": "stdout",
     "output_type": "stream",
     "text": [
      "Stable game conditions reached after: 1 iterations, with a period of: 1\n"
     ]
    }
   ],
   "source": [
    "game_of_life(test_board=new_board_test)"
   ]
  },
  {
   "cell_type": "code",
   "execution_count": 39,
   "metadata": {},
   "outputs": [],
   "source": [
    "x = 15\n",
    "glider = np.zeros(x**2)\n",
    "glider=glider.reshape(x,-1)\n",
    "##Build the famous glider!  It will keep flying forever!  Period is dependent on board size\n",
    "glider[0][1]=1\n",
    "glider[1][2]=1\n",
    "glider[2][0],glider[2][1],glider[2][2] = 1,1,1"
   ]
  },
  {
   "cell_type": "code",
   "execution_count": 40,
   "metadata": {},
   "outputs": [
    {
     "data": {
      "image/png": "[encoded data removed]",
      "text/plain": [
       "<Figure size 504x360 with 1 Axes>"
      ]
     },
     "metadata": {
      "needs_background": "light"
     },
     "output_type": "display_data"
    },
    {
     "name": "stdout",
     "output_type": "stream",
     "text": [
      "Stable game conditions reached after: 1 iterations, with a period of: 1\n"
     ]
    }
   ],
   "source": [
    "game_of_life(test_board=glider)"
   ]
  },
  {
   "cell_type": "code",
   "execution_count": null,
   "metadata": {},
   "outputs": [],
   "source": []
  }
 ],
 "metadata": {
  "kernelspec": {
   "display_name": "Python 3",
   "language": "python",
   "name": "python3"
  },
  "language_info": {
   "codemirror_mode": {
    "name": "ipython",
    "version": 3
   },
   "file_extension": ".py",
   "mimetype": "text/x-python",
   "name": "python",
   "nbconvert_exporter": "python",
   "pygments_lexer": "ipython3",
   "version": "3.7.3"
  }
 },
 "nbformat": 4,
 "nbformat_minor": 4
}
